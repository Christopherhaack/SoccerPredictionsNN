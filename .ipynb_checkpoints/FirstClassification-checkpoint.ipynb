{
 "cells": [
  {
   "cell_type": "code",
   "execution_count": 5,
   "metadata": {
    "collapsed": false
   },
   "outputs": [
    {
     "name": "stdout",
     "output_type": "stream",
     "text": [
      "[[6, 10252, 8659, 0, 1, 0], [6, 8678, 8472, 2, 0, 3], [6, 8455, 9825, 2, 0, 3], [6, 8650, 9850, 1, 1, 1], [6, 8456, 8654, 1, 2, 0], [6, 10261, 9817, 1, 2, 0], [6, 8466, 10260, 2, 3, 0], [6, 10194, 8197, 2, 2, 1], [6, 10003, 8668, 0, 0, 1], [6, 8586, 9826, 1, 0, 3], [7, 8197, 9825, 2, 5, 0], [7, 8650, 10252, 3, 2, 3], [7, 10260, 8472, 3, 0, 3], [7, 10261, 8455, 2, 2, 1], [7, 8466, 10003, 3, 1, 3], [7, 10194, 8678, 2, 1, 3], [7, 8586, 8456, 4, 1, 3], [7, 9817, 9826, 0, 1, 0], [7, 8659, 8668, 2, 3, 0], [7, 8654, 9850, 2, 2, 1], [8, 9825, 10260, 3, 0, 3], [8, 10252, 10194, 0, 1, 0], [8, 8678, 9817, 1, 1, 1], [8, 8455, 8466, 1, 3, 0], [8, 9826, 8659, 2, 0, 3], [8, 8668, 8650, 1, 1, 1], [8, 8456, 10261, 6, 1, 3], [8, 9850, 8197, 1, 2, 0], [8, 8472, 8654, 2, 2, 1], [8, 10003, 8586, 2, 2, 1], [9, 8455, 10252, 2, 0, 3], [9, 9826, 8654, 1, 3, 0], [9, 8668, 10260, 0, 3, 0], [9, 8456, 8678, 5, 1, 3], [9, 10261, 9850, 6, 2, 3], [9, 8466, 8197, 2, 2, 1], [9, 10003, 10194, 0, 1, 0], [9, 8586, 8650, 0, 0, 1], [9, 9817, 9825, 0, 3, 0], [9, 8659, 8472, 1, 0, 3], [10, 9825, 8668, 2, 1, 3], [10, 10252, 10003, 1, 2, 0], [10, 8678, 8586, 1, 5, 0], [10, 8197, 9826, 1, 0, 3], [10, 8650, 8466, 1, 1, 1], [10, 10260, 8456, 0, 0, 1], [10, 9850, 8659, 0, 1, 0], [10, 10194, 9817, 0, 2, 0], [10, 8472, 10261, 3, 0, 3], [10, 8654, 8455, 2, 1, 3], [11, 8455, 8650, 1, 3, 0], [11, 9826, 10260, 0, 0, 1], [11, 8668, 8472, 6, 2, 3], [11, 8456, 9850, 2, 1, 3], [11, 10261, 10194, 0, 0, 1], [11, 8466, 8678, 2, 0, 3], [11, 10003, 9825, 0, 3, 0], [11, 8586, 10252, 3, 1, 3], [11, 9817, 8654, 2, 0, 3], [11, 8659, 8197, 2, 3, 0], [12, 9825, 8586, 1, 1, 1], [12, 10252, 8456, 0, 0, 1], [12, 8678, 10261, 0, 1, 0], [12, 8197, 9817, 2, 1, 3], [12, 8650, 9826, 1, 2, 0], [12, 10260, 8659, 2, 0, 3], [12, 9850, 10003, 1, 0, 3], [12, 10194, 8455, 1, 0, 3], [12, 8472, 8466, 0, 1, 0], [12, 8654, 8668, 1, 1, 1], [13, 8455, 9850, 1, 0, 3], [13, 9826, 8472, 0, 1, 0], [13, 8668, 10252, 4, 0, 3], [13, 8456, 8650, 1, 4, 0], [13, 10261, 8197, 0, 3, 0], [13, 8466, 10194, 0, 1, 0], [13, 10003, 8678, 2, 2, 1], [13, 8586, 8654, 4, 1, 3], [13, 9817, 10260, 1, 2, 0], [13, 8659, 9825, 2, 1, 3], [14, 10252, 9817, 2, 3, 0], [14, 8678, 8668, 3, 3, 1], [14, 9826, 10261, 5, 1, 3], [14, 8197, 10260, 1, 1, 1], [14, 8650, 10003, 1, 0, 3], [14, 8456, 8466, 3, 1, 3], [14, 9850, 9825, 1, 1, 1], [14, 8472, 10194, 2, 0, 3], [14, 8586, 8455, 0, 0, 1], [14, 8654, 8659, 1, 1, 1], [15, 9825, 8472, 3, 1, 3], [15, 8455, 8678, 0, 1, 0], [15, 8668, 9826, 1, 1, 1], [15, 10260, 8654, 0, 0, 1], [15, 10261, 8650, 2, 0, 3], [15, 8466, 10252, 1, 1, 1], [15, 10194, 8456, 2, 0, 3], [15, 10003, 8197, 0, 3, 0], [15, 9817, 9850, 2, 0, 3], [15, 8659, 8586, 1, 1, 1], [16, 10252, 9825, 0, 2, 0], [16, 8678, 10260, 2, 1, 3], [16, 9826, 8466, 1, 0, 3], [16, 8197, 8455, 2, 1, 3], [16, 8650, 8659, 2, 2, 1], [16, 8456, 10003, 2, 1, 3], [16, 9850, 8668, 1, 1, 1], [16, 8472, 9817, 0, 1, 0], [16, 8586, 10261, 1, 2, 0], [16, 8654, 10194, 0, 0, 1], [17, 9825, 8456, 2, 1, 3], [17, 8455, 8472, 3, 1, 3], [17, 8668, 8197, 2, 3, 0], [17, 10260, 9850, 1, 2, 0], [17, 10261, 10252, 1, 1, 1], [17, 8466, 8586, 0, 2, 0], [17, 10194, 9826, 1, 2, 0], [17, 10003, 8654, 0, 0, 1], [17, 9817, 8650, 3, 0, 3], [17, 8659, 8678, 1, 2, 0], [18, 10252, 8654, 1, 1, 1], [18, 8678, 9826, 0, 0, 1], [18, 8455, 9817, 2, 2, 1], [18, 8650, 8197, 1, 0, 3], [18, 8456, 8472, 4, 1, 3], [18, 10261, 8668, 0, 1, 0], [18, 8466, 9825, 4, 0, 3], [18, 10194, 10260, 2, 0, 3], [18, 10003, 8659, 1, 0, 3], [18, 8586, 9850, 3, 0, 3], [19, 9825, 8678, 2, 0, 3], [19, 9826, 10003, 0, 0, 1], [19, 8668, 10194, 3, 4, 0], [19, 8197, 8456, 0, 0, 1], [19, 10260, 8455, 0, 0, 1], [19, 9850, 10252, 2, 0, 3], [19, 8472, 8650, 0, 1, 0], [19, 9817, 8586, 1, 2, 0], [19, 8659, 10261, 1, 0, 3], [19, 8654, 8466, 2, 1, 3], [20, 9825, 10261, 1, 0, 3], [20, 9826, 8455, 0, 3, 0], [20, 8668, 8586, 1, 1, 1], [20, 8197, 8678, 0, 0, 1], [20, 10260, 10003, 2, 1, 3], [20, 9850, 8466, 1, 0, 3], [20, 8472, 10252, 3, 1, 3], [20, 9817, 8456, 1, 2, 0], [20, 8659, 10194, 2, 1, 3], [20, 8654, 8650, 2, 0, 3], [21, 10252, 9826, 1, 0, 3], [21, 8678, 8654, 1, 3, 0], [21, 10003, 8472, 2, 4, 0], [21, 8650, 9825, 3, 3, 1], [21, 8455, 8659, 2, 2, 1], [21, 8456, 8668, 0, 0, 1], [21, 10261, 10260, 3, 3, 1], [21, 8466, 9817, 2, 0, 3], [21, 10194, 9850, 3, 1, 3], [21, 8586, 8197, 0, 1, 0], [22, 10252, 8197, 1, 1, 1], [22, 8678, 9850, 3, 0, 3], [22, 8455, 8668, 3, 3, 1], [22, 8650, 10260, 0, 1, 0], [22, 8456, 9826, 4, 0, 3], [22, 10261, 8654, 2, 1, 3], [22, 8466, 8659, 3, 0, 3], [22, 10194, 9825, 0, 0, 1], [22, 10003, 9817, 1, 0, 3], [22, 8586, 8472, 4, 1, 3], [23, 9825, 8455, 0, 1, 0], [23, 9826, 8586, 1, 3, 0], [23, 8668, 10003, 1, 2, 0], [23, 8197, 10194, 3, 0, 3], [23, 10260, 8466, 0, 1, 0], [23, 9850, 8650, 4, 5, 0], [23, 8472, 8678, 1, 1, 1], [23, 9817, 10261, 2, 1, 3], [23, 8659, 10252, 0, 0, 1], [23, 8654, 8456, 2, 2, 1], [24, 9825, 8466, 0, 0, 1], [24, 8197, 8650, 2, 0, 3], [24, 9850, 8586, 0, 3, 0], [24, 8472, 8456, 0, 1, 0], [24, 9817, 8455, 0, 0, 1], [24, 8654, 10252, 2, 0, 3], [24, 9826, 8678, 1, 2, 0], [24, 10260, 10194, 3, 0, 3], [24, 8659, 10003, 1, 1, 1], [24, 8668, 10261, 3, 0, 3], [25, 10252, 9850, 2, 0, 3], [25, 8678, 9825, 0, 2, 0], [25, 8455, 10260, 1, 1, 1], [25, 8650, 8472, 2, 2, 1], [25, 8456, 8197, 1, 3, 0], [25, 10261, 8659, 1, 0, 3], [25, 8466, 8654, 1, 0, 3], [25, 10194, 8668, 0, 3, 0], [25, 10003, 9826, 1, 1, 1], [25, 8586, 9817, 1, 0, 3], [26, 9825, 8197, 2, 1, 3], [26, 10252, 8650, 0, 6, 0], [26, 8678, 10194, 1, 3, 0], [26, 8455, 10261, 5, 1, 3], [26, 9826, 9817, 1, 2, 0], [26, 8668, 8659, 0, 1, 0], [26, 8456, 8586, 1, 2, 0], [26, 9850, 8654, 2, 2, 1], [26, 8472, 10260, 2, 1, 3], [26, 10003, 8466, 0, 1, 0], [27, 8197, 9850, 1, 0, 3], [27, 8650, 8668, 4, 0, 3], [27, 10260, 9825, 3, 2, 3], [27, 10261, 8456, 1, 1, 1], [27, 8466, 8455, 1, 2, 0], [27, 10194, 10252, 2, 1, 3], [27, 8586, 10003, 2, 1, 3], [27, 9817, 8678, 0, 0, 1], [27, 8659, 9826, 3, 2, 3], [27, 8654, 8472, 1, 0, 3], [28, 9825, 10003, 1, 2, 0], [28, 10252, 8668, 1, 3, 0], [28, 8678, 8466, 2, 0, 3], [28, 8197, 8659, 2, 2, 1], [28, 9850, 8455, 1, 2, 0], [28, 8472, 9826, 2, 2, 1], [28, 8654, 8586, 1, 0, 3], [28, 8650, 8456, 3, 0, 3], [28, 10260, 9817, 1, 0, 3], [28, 10194, 10261, 1, 0, 3], [29, 8455, 10194, 1, 1, 1], [29, 9826, 8650, 1, 2, 0], [29, 8668, 8654, 2, 3, 0], [29, 8456, 10252, 4, 0, 3], [29, 10261, 8678, 1, 3, 0], [29, 8466, 8472, 1, 1, 1], [29, 10003, 9850, 1, 0, 3], [29, 8586, 9825, 2, 2, 1], [29, 9817, 8197, 0, 1, 0], [29, 8659, 10260, 1, 0, 3], [30, 9825, 8659, 2, 0, 3], [30, 10252, 8586, 0, 2, 0], [30, 8678, 10003, 3, 2, 3], [30, 8197, 10261, 1, 0, 3], [30, 8650, 8455, 1, 1, 1], [30, 10260, 9826, 2, 0, 3], [30, 9850, 8456, 0, 0, 1], [30, 10194, 8466, 1, 2, 0], [30, 8472, 8668, 3, 0, 3], [30, 8654, 9817, 3, 1, 3], [31, 8455, 8654, 2, 2, 1], [31, 9826, 8197, 0, 1, 0], [31, 8668, 9825, 0, 2, 0], [31, 8456, 10260, 0, 1, 0], [31, 10261, 8472, 1, 1, 1], [31, 8466, 8650, 3, 2, 3], [31, 10003, 10252, 1, 0, 3], [31, 8586, 8678, 3, 0, 3], [31, 9817, 10194, 1, 2, 0], [31, 8659, 9850, 0, 1, 0], [32, 9825, 9817, 4, 0, 3], [32, 10252, 8455, 0, 4, 0], [32, 8678, 8456, 0, 4, 0], [32, 8197, 8466, 1, 0, 3], [32, 8650, 8586, 1, 1, 1], [32, 10260, 8668, 1, 0, 3], [32, 9850, 10261, 3, 2, 3], [32, 10194, 10003, 2, 2, 1], [32, 8472, 8659, 0, 0, 1], [32, 8654, 9826, 2, 2, 1], [33, 10252, 8678, 1, 2, 0], [33, 9826, 9850, 1, 0, 3], [33, 8650, 10194, 4, 1, 3], [33, 8456, 8659, 2, 1, 3], [33, 8466, 10261, 3, 1, 3], [33, 8472, 8197, 0, 2, 0], [33, 10003, 8455, 1, 0, 3], [33, 8586, 10260, 3, 0, 3], [33, 9817, 8668, 1, 1, 1], [33, 8654, 9825, 3, 3, 1], [34, 9825, 9826, 1, 1, 1]]\n"
     ]
    }
   ],
   "source": [
    "import pickle\n",
    "\n",
    "with open('soccerPerformance3.pickle', 'rb') as handle:\n",
    "    b3 = pickle.load(handle)\n",
    "    \n",
    "cnt = 0\n",
    "teamDic = dict()\n",
    "teams = b3.teams\n",
    "\n",
    "\n",
    "\n",
    "\n",
    "def createDataSet(gameInfo, season):\n",
    "    x = []\n",
    "    y = []\n",
    "    cnt = 0\n",
    "    #this code block is meant to fix a mistake in the definition of my data structure, should really make performances\n",
    "    # a dictionary which each team name as a key, and the performances as a val. \n",
    "    for team in teams:\n",
    "        teamDic[team] = cnt\n",
    "        cnt += 1\n",
    "    for game in gameInfo[]:\n",
    "        example = []\n",
    "        stage = game[0]\n",
    "        res = game[5]\n",
    "        #the result of the game will constitute our y set. 0 = home loss, 1 = home draw, 3 = home win.\n",
    "        y.append(res)\n",
    "        home = game[1]\n",
    "        away = game[2]\n",
    "        homeLoc = teamDic[home]\n",
    "        awayLoc = teamDic[away]\n",
    "        #a training example will be a 10 * 826, with the home teams most recent 5 games as the first 5 values\n",
    "        #followed by the away teams most recent 5 games.\n",
    "        for i in range((stage-6), (stage - 1)):\n",
    "            game = season.performances[homeLoc].performace[i]\n",
    "            example.append(game)\n",
    "        for j in range((stage-6), (stage - 1)):\n",
    "            game = season.performances[awayLoc].performace[i]\n",
    "            example.append(game)\n",
    "        x.append(example)\n",
    "    return x, y"
   ]
  },
  {
   "cell_type": "code",
   "execution_count": 54,
   "metadata": {
    "collapsed": false
   },
   "outputs": [],
   "source": [
    "#creates a flat version of the x as a 1 x 8240 matrix\n",
    "def createDataSet(gameInfo, season):\n",
    "    x = []\n",
    "    y = []\n",
    "    cnt = 0\n",
    "    #this code block is meant to fix a mistake in the definition of my data structure, should really make performances\n",
    "    # a dictionary which each team name as a key, and the performances as a val. \n",
    "    for team in teams:\n",
    "        teamDic[team] = cnt\n",
    "        cnt += 1\n",
    "    for game in gameInfo:\n",
    "        example = []\n",
    "        stage = game[0]\n",
    "        res = game[5]\n",
    "        #the result of the game will constitute our y set. 0 = home loss, 1 = home draw, 3 = home win.\n",
    "        y.append(res)\n",
    "        home = game[1]\n",
    "        away = game[2]\n",
    "        homeLoc = teamDic[home]\n",
    "        awayLoc = teamDic[away]\n",
    "        #a training example will be a 10 * 826, with the home teams most recent 5 games as the first 5 values\n",
    "        #followed by the away teams most recent 5 games.\n",
    "        for i in range((stage-6), (stage - 1)):\n",
    "            game = season.performances[homeLoc].performance[i]\n",
    "            #first two items in game are the stage and away team api Id which I don't use in this\n",
    "            # model\n",
    "            game1 = game[2:]\n",
    "            for d in game1:\n",
    "                example.append(d)\n",
    "        for j in range((stage-6), (stage - 1)):\n",
    "            game = season.performances[awayLoc].performance[i]\n",
    "            game1 = game[2:]\n",
    "            for d in game1:\n",
    "                example.append(d)\n",
    "        x.append(example)\n",
    "    \n",
    "    return x, y\n",
    "\n",
    "#changes the output of a game to a one hot encoding [win, tie, loss]\n",
    "def resOneHot(y):\n",
    "    if y = 3:\n",
    "        return [1 , 0, 0]\n",
    "    elif y = 1:\n",
    "        return [0, 1, 0]\n",
    "    else:\n",
    "        return [0, 0, 1]\n",
    "\n",
    "#creates a flat version of the x as a 1 x 8240 matrix and the y's as one hot vectors.\n",
    "def createDataSet2(gameInfo, season):\n",
    "    x = []\n",
    "    y = []\n",
    "    cnt = 0\n",
    "    #this code block is meant to fix a mistake in the definition of my data structure, should really make performances\n",
    "    # a dictionary which each team name as a key, and the performances as a val. \n",
    "    for team in teams:\n",
    "        teamDic[team] = cnt\n",
    "        cnt += 1\n",
    "    for game in gameInfo:\n",
    "        example = []\n",
    "        stage = game[0]\n",
    "        res = game[5]\n",
    "        #the result of the game will constitute our y set. 0 = home loss, 1 = home draw, 3 = home win.\n",
    "        y.append(resOneHot(res))\n",
    "        home = game[1]\n",
    "        away = game[2]\n",
    "        homeLoc = teamDic[home]\n",
    "        awayLoc = teamDic[away]\n",
    "        #a training example will be a 10 * 826, with the home teams most recent 5 games as the first 5 values\n",
    "        #followed by the away teams most recent 5 games.\n",
    "        for i in range((stage-6), (stage - 1)):\n",
    "            game = season.performances[homeLoc].performance[i]\n",
    "            #first two items in game are the stage and away team api Id which I don't use in this\n",
    "            # model\n",
    "            game1 = game[2:]\n",
    "            for d in game1:\n",
    "                example.append(d)\n",
    "        for j in range((stage-6), (stage - 1)):\n",
    "            game = season.performances[awayLoc].performance[i]\n",
    "            game1 = game[2:]\n",
    "            for d in game1:\n",
    "                example.append(d)\n",
    "        x.append(example)\n",
    "    \n",
    "    return x, y"
   ]
  },
  {
   "cell_type": "code",
   "execution_count": 27,
   "metadata": {
    "collapsed": false
   },
   "outputs": [],
   "source": [
    "trainGames = b3.info[50:330]\n",
    "testGames = b3.info[330:]\n",
    "\n",
    "xTrain, yTrain = createDataSet(trainGames, b3)\n",
    "xTest, yTest = createDataSet(testGames, b3)"
   ]
  },
  {
   "cell_type": "code",
   "execution_count": 52,
   "metadata": {
    "collapsed": false
   },
   "outputs": [
    {
     "name": "stdout",
     "output_type": "stream",
     "text": [
      "1.0\n",
      "0.46\n",
      "[3 0 3 3 3 3 3 3 0 3 0 1 3 3 3 3 3 3 3 3 3 0 3 3 3 3 3 3 3 0 3 3 3 3 3 0 3\n",
      " 1 3 3 3 0 0 3 0 0 3 1 3 3]\n",
      "[1, 0, 0, 1, 1, 3, 3, 0, 0, 0, 0, 0, 1, 3, 1, 3, 3, 1, 1, 3, 3, 1, 3, 1, 3, 3, 1, 3, 3, 0, 1, 1, 3, 3, 3, 1, 0, 3, 0, 0, 3, 1, 3, 3, 3, 3, 3, 1, 1, 1]\n"
     ]
    }
   ],
   "source": [
    "from sklearn.ensemble import RandomForestClassifier\n",
    "import numpy as np\n",
    "clf = RandomForestClassifier(n_estimators=100)\n",
    "clf.fit(xTrain, yTrain)\n",
    "print(clf.score(xTrain, yTrain))\n",
    "print(clf.score(xTest, yTest))\n",
    "yVals = clf.predict(xTest)\n",
    "print(yVals)\n",
    "print(yTest)"
   ]
  },
  {
   "cell_type": "code",
   "execution_count": 47,
   "metadata": {
    "collapsed": true
   },
   "outputs": [],
   "source": [
    "import tensorflow as tf\n",
    "xTrain2, yTrain2 = createDataSet2(trainGames, b3)\n",
    "xTest2, yTest2 = createDataSet2(testGames, b3)\n",
    "\n",
    "x = tf.placeholder(tf.float32, shape=[None, 8240])\n",
    "W = tf.Variable(tf.zeros([8240,3]))\n",
    "b = tf.Variable(tf.zeros([3]))\n",
    "cross_entropy = tf.reduce_mean(tf.nn.softmax_cross_entropy_with_logits(y_conv, y_))\n",
    "train_step = tf.train.AdamOptimizer(1e-4).minimize(cross_entropy)"
   ]
  },
  {
   "cell_type": "code",
   "execution_count": 60,
   "metadata": {
    "collapsed": false
   },
   "outputs": [
    {
     "name": "stdout",
     "output_type": "stream",
     "text": [
      "WARNING:tensorflow:From <ipython-input-60-a2eef84a7c55>:64 in <module>.: initialize_all_variables (from tensorflow.python.ops.variables) is deprecated and will be removed after 2017-03-02.\n",
      "Instructions for updating:\n",
      "Use `tf.global_variables_initializer` instead.\n"
     ]
    },
    {
     "ename": "InternalError",
     "evalue": "Dst tensor is not initialized.\n\t [[Node: zeros_8 = Const[dtype=DT_FLOAT, value=Tensor<type: float shape: [3136,1024] values: [0 0 0]...>, _device=\"/job:localhost/replica:0/task:0/gpu:0\"]()]]\n\nCaused by op 'zeros_8', defined at:\n  File \"C:\\Users\\ChristopherHaack\\Anaconda3\\lib\\runpy.py\", line 184, in _run_module_as_main\n    \"__main__\", mod_spec)\n  File \"C:\\Users\\ChristopherHaack\\Anaconda3\\lib\\runpy.py\", line 85, in _run_code\n    exec(code, run_globals)\n  File \"C:\\Users\\ChristopherHaack\\Anaconda3\\lib\\site-packages\\ipykernel\\__main__.py\", line 3, in <module>\n    app.launch_new_instance()\n  File \"C:\\Users\\ChristopherHaack\\Anaconda3\\lib\\site-packages\\traitlets\\config\\application.py\", line 653, in launch_instance\n    app.start()\n  File \"C:\\Users\\ChristopherHaack\\Anaconda3\\lib\\site-packages\\ipykernel\\kernelapp.py\", line 474, in start\n    ioloop.IOLoop.instance().start()\n  File \"C:\\Users\\ChristopherHaack\\Anaconda3\\lib\\site-packages\\zmq\\eventloop\\ioloop.py\", line 162, in start\n    super(ZMQIOLoop, self).start()\n  File \"C:\\Users\\ChristopherHaack\\Anaconda3\\lib\\site-packages\\tornado\\ioloop.py\", line 887, in start\n    handler_func(fd_obj, events)\n  File \"C:\\Users\\ChristopherHaack\\Anaconda3\\lib\\site-packages\\tornado\\stack_context.py\", line 275, in null_wrapper\n    return fn(*args, **kwargs)\n  File \"C:\\Users\\ChristopherHaack\\Anaconda3\\lib\\site-packages\\zmq\\eventloop\\zmqstream.py\", line 440, in _handle_events\n    self._handle_recv()\n  File \"C:\\Users\\ChristopherHaack\\Anaconda3\\lib\\site-packages\\zmq\\eventloop\\zmqstream.py\", line 472, in _handle_recv\n    self._run_callback(callback, msg)\n  File \"C:\\Users\\ChristopherHaack\\Anaconda3\\lib\\site-packages\\zmq\\eventloop\\zmqstream.py\", line 414, in _run_callback\n    callback(*args, **kwargs)\n  File \"C:\\Users\\ChristopherHaack\\Anaconda3\\lib\\site-packages\\tornado\\stack_context.py\", line 275, in null_wrapper\n    return fn(*args, **kwargs)\n  File \"C:\\Users\\ChristopherHaack\\Anaconda3\\lib\\site-packages\\ipykernel\\kernelbase.py\", line 276, in dispatcher\n    return self.dispatch_shell(stream, msg)\n  File \"C:\\Users\\ChristopherHaack\\Anaconda3\\lib\\site-packages\\ipykernel\\kernelbase.py\", line 228, in dispatch_shell\n    handler(stream, idents, msg)\n  File \"C:\\Users\\ChristopherHaack\\Anaconda3\\lib\\site-packages\\ipykernel\\kernelbase.py\", line 390, in execute_request\n    user_expressions, allow_stdin)\n  File \"C:\\Users\\ChristopherHaack\\Anaconda3\\lib\\site-packages\\ipykernel\\ipkernel.py\", line 196, in do_execute\n    res = shell.run_cell(code, store_history=store_history, silent=silent)\n  File \"C:\\Users\\ChristopherHaack\\Anaconda3\\lib\\site-packages\\ipykernel\\zmqshell.py\", line 501, in run_cell\n    return super(ZMQInteractiveShell, self).run_cell(*args, **kwargs)\n  File \"C:\\Users\\ChristopherHaack\\Anaconda3\\lib\\site-packages\\IPython\\core\\interactiveshell.py\", line 2717, in run_cell\n    interactivity=interactivity, compiler=compiler, result=result)\n  File \"C:\\Users\\ChristopherHaack\\Anaconda3\\lib\\site-packages\\IPython\\core\\interactiveshell.py\", line 2821, in run_ast_nodes\n    if self.run_code(code, result):\n  File \"C:\\Users\\ChristopherHaack\\Anaconda3\\lib\\site-packages\\IPython\\core\\interactiveshell.py\", line 2881, in run_code\n    exec(code_obj, self.user_global_ns, self.user_ns)\n  File \"<ipython-input-57-c4dbdadc7828>\", line 60, in <module>\n    train_step = tf.train.AdamOptimizer(1e-4).minimize(cross_entropy)\n  File \"C:\\Users\\ChristopherHaack\\Anaconda3\\lib\\site-packages\\tensorflow\\python\\training\\optimizer.py\", line 279, in minimize\n    name=name)\n  File \"C:\\Users\\ChristopherHaack\\Anaconda3\\lib\\site-packages\\tensorflow\\python\\training\\optimizer.py\", line 393, in apply_gradients\n    self._create_slots(var_list)\n  File \"C:\\Users\\ChristopherHaack\\Anaconda3\\lib\\site-packages\\tensorflow\\python\\training\\adam.py\", line 119, in _create_slots\n    self._zeros_slot(v, \"m\", self._name)\n  File \"C:\\Users\\ChristopherHaack\\Anaconda3\\lib\\site-packages\\tensorflow\\python\\training\\optimizer.py\", line 593, in _zeros_slot\n    named_slots[var] = slot_creator.create_zeros_slot(var, op_name)\n  File \"C:\\Users\\ChristopherHaack\\Anaconda3\\lib\\site-packages\\tensorflow\\python\\training\\slot_creator.py\", line 106, in create_zeros_slot\n    val = array_ops.zeros(primary.get_shape().as_list(), dtype=dtype)\n  File \"C:\\Users\\ChristopherHaack\\Anaconda3\\lib\\site-packages\\tensorflow\\python\\ops\\array_ops.py\", line 1437, in zeros\n    output = constant(zero, shape=shape, dtype=dtype, name=name)\n  File \"C:\\Users\\ChristopherHaack\\Anaconda3\\lib\\site-packages\\tensorflow\\python\\framework\\constant_op.py\", line 169, in constant\n    attrs={\"value\": tensor_value, \"dtype\": dtype_value}, name=name).outputs[0]\n  File \"C:\\Users\\ChristopherHaack\\Anaconda3\\lib\\site-packages\\tensorflow\\python\\framework\\ops.py\", line 2240, in create_op\n    original_op=self._default_original_op, op_def=op_def)\n  File \"C:\\Users\\ChristopherHaack\\Anaconda3\\lib\\site-packages\\tensorflow\\python\\framework\\ops.py\", line 1128, in __init__\n    self._traceback = _extract_stack()\n\nInternalError (see above for traceback): Dst tensor is not initialized.\n\t [[Node: zeros_8 = Const[dtype=DT_FLOAT, value=Tensor<type: float shape: [3136,1024] values: [0 0 0]...>, _device=\"/job:localhost/replica:0/task:0/gpu:0\"]()]]\n",
     "output_type": "error",
     "traceback": [
      "\u001b[0;31m---------------------------------------------------------------------------\u001b[0m",
      "\u001b[0;31mInternalError\u001b[0m                             Traceback (most recent call last)",
      "\u001b[0;32mC:\\Users\\ChristopherHaack\\Anaconda3\\lib\\site-packages\\tensorflow\\python\\client\\session.py\u001b[0m in \u001b[0;36m_do_call\u001b[0;34m(self, fn, *args)\u001b[0m\n\u001b[1;32m   1020\u001b[0m     \u001b[1;32mtry\u001b[0m\u001b[1;33m:\u001b[0m\u001b[1;33m\u001b[0m\u001b[0m\n\u001b[0;32m-> 1021\u001b[0;31m       \u001b[1;32mreturn\u001b[0m \u001b[0mfn\u001b[0m\u001b[1;33m(\u001b[0m\u001b[1;33m*\u001b[0m\u001b[0margs\u001b[0m\u001b[1;33m)\u001b[0m\u001b[1;33m\u001b[0m\u001b[0m\n\u001b[0m\u001b[1;32m   1022\u001b[0m     \u001b[1;32mexcept\u001b[0m \u001b[0merrors\u001b[0m\u001b[1;33m.\u001b[0m\u001b[0mOpError\u001b[0m \u001b[1;32mas\u001b[0m \u001b[0me\u001b[0m\u001b[1;33m:\u001b[0m\u001b[1;33m\u001b[0m\u001b[0m\n",
      "\u001b[0;32mC:\\Users\\ChristopherHaack\\Anaconda3\\lib\\site-packages\\tensorflow\\python\\client\\session.py\u001b[0m in \u001b[0;36m_run_fn\u001b[0;34m(session, feed_dict, fetch_list, target_list, options, run_metadata)\u001b[0m\n\u001b[1;32m   1002\u001b[0m                                  \u001b[0mfeed_dict\u001b[0m\u001b[1;33m,\u001b[0m \u001b[0mfetch_list\u001b[0m\u001b[1;33m,\u001b[0m \u001b[0mtarget_list\u001b[0m\u001b[1;33m,\u001b[0m\u001b[1;33m\u001b[0m\u001b[0m\n\u001b[0;32m-> 1003\u001b[0;31m                                  status, run_metadata)\n\u001b[0m\u001b[1;32m   1004\u001b[0m \u001b[1;33m\u001b[0m\u001b[0m\n",
      "\u001b[0;32mC:\\Users\\ChristopherHaack\\Anaconda3\\lib\\contextlib.py\u001b[0m in \u001b[0;36m__exit__\u001b[0;34m(self, type, value, traceback)\u001b[0m\n\u001b[1;32m     65\u001b[0m             \u001b[1;32mtry\u001b[0m\u001b[1;33m:\u001b[0m\u001b[1;33m\u001b[0m\u001b[0m\n\u001b[0;32m---> 66\u001b[0;31m                 \u001b[0mnext\u001b[0m\u001b[1;33m(\u001b[0m\u001b[0mself\u001b[0m\u001b[1;33m.\u001b[0m\u001b[0mgen\u001b[0m\u001b[1;33m)\u001b[0m\u001b[1;33m\u001b[0m\u001b[0m\n\u001b[0m\u001b[1;32m     67\u001b[0m             \u001b[1;32mexcept\u001b[0m \u001b[0mStopIteration\u001b[0m\u001b[1;33m:\u001b[0m\u001b[1;33m\u001b[0m\u001b[0m\n",
      "\u001b[0;32mC:\\Users\\ChristopherHaack\\Anaconda3\\lib\\site-packages\\tensorflow\\python\\framework\\errors_impl.py\u001b[0m in \u001b[0;36mraise_exception_on_not_ok_status\u001b[0;34m()\u001b[0m\n\u001b[1;32m    468\u001b[0m           \u001b[0mcompat\u001b[0m\u001b[1;33m.\u001b[0m\u001b[0mas_text\u001b[0m\u001b[1;33m(\u001b[0m\u001b[0mpywrap_tensorflow\u001b[0m\u001b[1;33m.\u001b[0m\u001b[0mTF_Message\u001b[0m\u001b[1;33m(\u001b[0m\u001b[0mstatus\u001b[0m\u001b[1;33m)\u001b[0m\u001b[1;33m)\u001b[0m\u001b[1;33m,\u001b[0m\u001b[1;33m\u001b[0m\u001b[0m\n\u001b[0;32m--> 469\u001b[0;31m           pywrap_tensorflow.TF_GetCode(status))\n\u001b[0m\u001b[1;32m    470\u001b[0m   \u001b[1;32mfinally\u001b[0m\u001b[1;33m:\u001b[0m\u001b[1;33m\u001b[0m\u001b[0m\n",
      "\u001b[0;31mInternalError\u001b[0m: Dst tensor is not initialized.\n\t [[Node: zeros_8 = Const[dtype=DT_FLOAT, value=Tensor<type: float shape: [3136,1024] values: [0 0 0]...>, _device=\"/job:localhost/replica:0/task:0/gpu:0\"]()]]",
      "\nDuring handling of the above exception, another exception occurred:\n",
      "\u001b[0;31mInternalError\u001b[0m                             Traceback (most recent call last)",
      "\u001b[0;32m<ipython-input-60-a2eef84a7c55>\u001b[0m in \u001b[0;36m<module>\u001b[0;34m()\u001b[0m\n\u001b[1;32m     62\u001b[0m \u001b[0maccuracy\u001b[0m \u001b[1;33m=\u001b[0m \u001b[0mtf\u001b[0m\u001b[1;33m.\u001b[0m\u001b[0mreduce_mean\u001b[0m\u001b[1;33m(\u001b[0m\u001b[0mtf\u001b[0m\u001b[1;33m.\u001b[0m\u001b[0mcast\u001b[0m\u001b[1;33m(\u001b[0m\u001b[0mcorrect_prediction\u001b[0m\u001b[1;33m,\u001b[0m \u001b[0mtf\u001b[0m\u001b[1;33m.\u001b[0m\u001b[0mfloat32\u001b[0m\u001b[1;33m)\u001b[0m\u001b[1;33m)\u001b[0m\u001b[1;33m\u001b[0m\u001b[0m\n\u001b[1;32m     63\u001b[0m \u001b[1;33m\u001b[0m\u001b[0m\n\u001b[0;32m---> 64\u001b[0;31m \u001b[0msess\u001b[0m\u001b[1;33m.\u001b[0m\u001b[0mrun\u001b[0m\u001b[1;33m(\u001b[0m\u001b[0mtf\u001b[0m\u001b[1;33m.\u001b[0m\u001b[0minitialize_all_variables\u001b[0m\u001b[1;33m(\u001b[0m\u001b[1;33m)\u001b[0m\u001b[1;33m)\u001b[0m\u001b[1;33m\u001b[0m\u001b[0m\n\u001b[0m\u001b[1;32m     65\u001b[0m \u001b[1;32mfor\u001b[0m \u001b[0mi\u001b[0m \u001b[1;32min\u001b[0m \u001b[0mrange\u001b[0m\u001b[1;33m(\u001b[0m\u001b[1;36m200\u001b[0m\u001b[1;33m)\u001b[0m\u001b[1;33m:\u001b[0m\u001b[1;33m\u001b[0m\u001b[0m\n\u001b[1;32m     66\u001b[0m     \u001b[0mx_batch\u001b[0m\u001b[1;33m,\u001b[0m \u001b[0my_batch\u001b[0m \u001b[1;33m=\u001b[0m \u001b[0mgenBatch\u001b[0m\u001b[1;33m(\u001b[0m\u001b[0mxTrain2\u001b[0m\u001b[1;33m,\u001b[0m \u001b[0myTrain2\u001b[0m\u001b[1;33m)\u001b[0m\u001b[1;33m\u001b[0m\u001b[0m\n",
      "\u001b[0;32mC:\\Users\\ChristopherHaack\\Anaconda3\\lib\\site-packages\\tensorflow\\python\\client\\session.py\u001b[0m in \u001b[0;36mrun\u001b[0;34m(self, fetches, feed_dict, options, run_metadata)\u001b[0m\n\u001b[1;32m    764\u001b[0m     \u001b[1;32mtry\u001b[0m\u001b[1;33m:\u001b[0m\u001b[1;33m\u001b[0m\u001b[0m\n\u001b[1;32m    765\u001b[0m       result = self._run(None, fetches, feed_dict, options_ptr,\n\u001b[0;32m--> 766\u001b[0;31m                          run_metadata_ptr)\n\u001b[0m\u001b[1;32m    767\u001b[0m       \u001b[1;32mif\u001b[0m \u001b[0mrun_metadata\u001b[0m\u001b[1;33m:\u001b[0m\u001b[1;33m\u001b[0m\u001b[0m\n\u001b[1;32m    768\u001b[0m         \u001b[0mproto_data\u001b[0m \u001b[1;33m=\u001b[0m \u001b[0mtf_session\u001b[0m\u001b[1;33m.\u001b[0m\u001b[0mTF_GetBuffer\u001b[0m\u001b[1;33m(\u001b[0m\u001b[0mrun_metadata_ptr\u001b[0m\u001b[1;33m)\u001b[0m\u001b[1;33m\u001b[0m\u001b[0m\n",
      "\u001b[0;32mC:\\Users\\ChristopherHaack\\Anaconda3\\lib\\site-packages\\tensorflow\\python\\client\\session.py\u001b[0m in \u001b[0;36m_run\u001b[0;34m(self, handle, fetches, feed_dict, options, run_metadata)\u001b[0m\n\u001b[1;32m    962\u001b[0m     \u001b[1;32mif\u001b[0m \u001b[0mfinal_fetches\u001b[0m \u001b[1;32mor\u001b[0m \u001b[0mfinal_targets\u001b[0m\u001b[1;33m:\u001b[0m\u001b[1;33m\u001b[0m\u001b[0m\n\u001b[1;32m    963\u001b[0m       results = self._do_run(handle, final_targets, final_fetches,\n\u001b[0;32m--> 964\u001b[0;31m                              feed_dict_string, options, run_metadata)\n\u001b[0m\u001b[1;32m    965\u001b[0m     \u001b[1;32melse\u001b[0m\u001b[1;33m:\u001b[0m\u001b[1;33m\u001b[0m\u001b[0m\n\u001b[1;32m    966\u001b[0m       \u001b[0mresults\u001b[0m \u001b[1;33m=\u001b[0m \u001b[1;33m[\u001b[0m\u001b[1;33m]\u001b[0m\u001b[1;33m\u001b[0m\u001b[0m\n",
      "\u001b[0;32mC:\\Users\\ChristopherHaack\\Anaconda3\\lib\\site-packages\\tensorflow\\python\\client\\session.py\u001b[0m in \u001b[0;36m_do_run\u001b[0;34m(self, handle, target_list, fetch_list, feed_dict, options, run_metadata)\u001b[0m\n\u001b[1;32m   1012\u001b[0m     \u001b[1;32mif\u001b[0m \u001b[0mhandle\u001b[0m \u001b[1;32mis\u001b[0m \u001b[1;32mNone\u001b[0m\u001b[1;33m:\u001b[0m\u001b[1;33m\u001b[0m\u001b[0m\n\u001b[1;32m   1013\u001b[0m       return self._do_call(_run_fn, self._session, feed_dict, fetch_list,\n\u001b[0;32m-> 1014\u001b[0;31m                            target_list, options, run_metadata)\n\u001b[0m\u001b[1;32m   1015\u001b[0m     \u001b[1;32melse\u001b[0m\u001b[1;33m:\u001b[0m\u001b[1;33m\u001b[0m\u001b[0m\n\u001b[1;32m   1016\u001b[0m       return self._do_call(_prun_fn, self._session, handle, feed_dict,\n",
      "\u001b[0;32mC:\\Users\\ChristopherHaack\\Anaconda3\\lib\\site-packages\\tensorflow\\python\\client\\session.py\u001b[0m in \u001b[0;36m_do_call\u001b[0;34m(self, fn, *args)\u001b[0m\n\u001b[1;32m   1032\u001b[0m         \u001b[1;32mexcept\u001b[0m \u001b[0mKeyError\u001b[0m\u001b[1;33m:\u001b[0m\u001b[1;33m\u001b[0m\u001b[0m\n\u001b[1;32m   1033\u001b[0m           \u001b[1;32mpass\u001b[0m\u001b[1;33m\u001b[0m\u001b[0m\n\u001b[0;32m-> 1034\u001b[0;31m       \u001b[1;32mraise\u001b[0m \u001b[0mtype\u001b[0m\u001b[1;33m(\u001b[0m\u001b[0me\u001b[0m\u001b[1;33m)\u001b[0m\u001b[1;33m(\u001b[0m\u001b[0mnode_def\u001b[0m\u001b[1;33m,\u001b[0m \u001b[0mop\u001b[0m\u001b[1;33m,\u001b[0m \u001b[0mmessage\u001b[0m\u001b[1;33m)\u001b[0m\u001b[1;33m\u001b[0m\u001b[0m\n\u001b[0m\u001b[1;32m   1035\u001b[0m \u001b[1;33m\u001b[0m\u001b[0m\n\u001b[1;32m   1036\u001b[0m   \u001b[1;32mdef\u001b[0m \u001b[0m_extend_graph\u001b[0m\u001b[1;33m(\u001b[0m\u001b[0mself\u001b[0m\u001b[1;33m)\u001b[0m\u001b[1;33m:\u001b[0m\u001b[1;33m\u001b[0m\u001b[0m\n",
      "\u001b[0;31mInternalError\u001b[0m: Dst tensor is not initialized.\n\t [[Node: zeros_8 = Const[dtype=DT_FLOAT, value=Tensor<type: float shape: [3136,1024] values: [0 0 0]...>, _device=\"/job:localhost/replica:0/task:0/gpu:0\"]()]]\n\nCaused by op 'zeros_8', defined at:\n  File \"C:\\Users\\ChristopherHaack\\Anaconda3\\lib\\runpy.py\", line 184, in _run_module_as_main\n    \"__main__\", mod_spec)\n  File \"C:\\Users\\ChristopherHaack\\Anaconda3\\lib\\runpy.py\", line 85, in _run_code\n    exec(code, run_globals)\n  File \"C:\\Users\\ChristopherHaack\\Anaconda3\\lib\\site-packages\\ipykernel\\__main__.py\", line 3, in <module>\n    app.launch_new_instance()\n  File \"C:\\Users\\ChristopherHaack\\Anaconda3\\lib\\site-packages\\traitlets\\config\\application.py\", line 653, in launch_instance\n    app.start()\n  File \"C:\\Users\\ChristopherHaack\\Anaconda3\\lib\\site-packages\\ipykernel\\kernelapp.py\", line 474, in start\n    ioloop.IOLoop.instance().start()\n  File \"C:\\Users\\ChristopherHaack\\Anaconda3\\lib\\site-packages\\zmq\\eventloop\\ioloop.py\", line 162, in start\n    super(ZMQIOLoop, self).start()\n  File \"C:\\Users\\ChristopherHaack\\Anaconda3\\lib\\site-packages\\tornado\\ioloop.py\", line 887, in start\n    handler_func(fd_obj, events)\n  File \"C:\\Users\\ChristopherHaack\\Anaconda3\\lib\\site-packages\\tornado\\stack_context.py\", line 275, in null_wrapper\n    return fn(*args, **kwargs)\n  File \"C:\\Users\\ChristopherHaack\\Anaconda3\\lib\\site-packages\\zmq\\eventloop\\zmqstream.py\", line 440, in _handle_events\n    self._handle_recv()\n  File \"C:\\Users\\ChristopherHaack\\Anaconda3\\lib\\site-packages\\zmq\\eventloop\\zmqstream.py\", line 472, in _handle_recv\n    self._run_callback(callback, msg)\n  File \"C:\\Users\\ChristopherHaack\\Anaconda3\\lib\\site-packages\\zmq\\eventloop\\zmqstream.py\", line 414, in _run_callback\n    callback(*args, **kwargs)\n  File \"C:\\Users\\ChristopherHaack\\Anaconda3\\lib\\site-packages\\tornado\\stack_context.py\", line 275, in null_wrapper\n    return fn(*args, **kwargs)\n  File \"C:\\Users\\ChristopherHaack\\Anaconda3\\lib\\site-packages\\ipykernel\\kernelbase.py\", line 276, in dispatcher\n    return self.dispatch_shell(stream, msg)\n  File \"C:\\Users\\ChristopherHaack\\Anaconda3\\lib\\site-packages\\ipykernel\\kernelbase.py\", line 228, in dispatch_shell\n    handler(stream, idents, msg)\n  File \"C:\\Users\\ChristopherHaack\\Anaconda3\\lib\\site-packages\\ipykernel\\kernelbase.py\", line 390, in execute_request\n    user_expressions, allow_stdin)\n  File \"C:\\Users\\ChristopherHaack\\Anaconda3\\lib\\site-packages\\ipykernel\\ipkernel.py\", line 196, in do_execute\n    res = shell.run_cell(code, store_history=store_history, silent=silent)\n  File \"C:\\Users\\ChristopherHaack\\Anaconda3\\lib\\site-packages\\ipykernel\\zmqshell.py\", line 501, in run_cell\n    return super(ZMQInteractiveShell, self).run_cell(*args, **kwargs)\n  File \"C:\\Users\\ChristopherHaack\\Anaconda3\\lib\\site-packages\\IPython\\core\\interactiveshell.py\", line 2717, in run_cell\n    interactivity=interactivity, compiler=compiler, result=result)\n  File \"C:\\Users\\ChristopherHaack\\Anaconda3\\lib\\site-packages\\IPython\\core\\interactiveshell.py\", line 2821, in run_ast_nodes\n    if self.run_code(code, result):\n  File \"C:\\Users\\ChristopherHaack\\Anaconda3\\lib\\site-packages\\IPython\\core\\interactiveshell.py\", line 2881, in run_code\n    exec(code_obj, self.user_global_ns, self.user_ns)\n  File \"<ipython-input-57-c4dbdadc7828>\", line 60, in <module>\n    train_step = tf.train.AdamOptimizer(1e-4).minimize(cross_entropy)\n  File \"C:\\Users\\ChristopherHaack\\Anaconda3\\lib\\site-packages\\tensorflow\\python\\training\\optimizer.py\", line 279, in minimize\n    name=name)\n  File \"C:\\Users\\ChristopherHaack\\Anaconda3\\lib\\site-packages\\tensorflow\\python\\training\\optimizer.py\", line 393, in apply_gradients\n    self._create_slots(var_list)\n  File \"C:\\Users\\ChristopherHaack\\Anaconda3\\lib\\site-packages\\tensorflow\\python\\training\\adam.py\", line 119, in _create_slots\n    self._zeros_slot(v, \"m\", self._name)\n  File \"C:\\Users\\ChristopherHaack\\Anaconda3\\lib\\site-packages\\tensorflow\\python\\training\\optimizer.py\", line 593, in _zeros_slot\n    named_slots[var] = slot_creator.create_zeros_slot(var, op_name)\n  File \"C:\\Users\\ChristopherHaack\\Anaconda3\\lib\\site-packages\\tensorflow\\python\\training\\slot_creator.py\", line 106, in create_zeros_slot\n    val = array_ops.zeros(primary.get_shape().as_list(), dtype=dtype)\n  File \"C:\\Users\\ChristopherHaack\\Anaconda3\\lib\\site-packages\\tensorflow\\python\\ops\\array_ops.py\", line 1437, in zeros\n    output = constant(zero, shape=shape, dtype=dtype, name=name)\n  File \"C:\\Users\\ChristopherHaack\\Anaconda3\\lib\\site-packages\\tensorflow\\python\\framework\\constant_op.py\", line 169, in constant\n    attrs={\"value\": tensor_value, \"dtype\": dtype_value}, name=name).outputs[0]\n  File \"C:\\Users\\ChristopherHaack\\Anaconda3\\lib\\site-packages\\tensorflow\\python\\framework\\ops.py\", line 2240, in create_op\n    original_op=self._default_original_op, op_def=op_def)\n  File \"C:\\Users\\ChristopherHaack\\Anaconda3\\lib\\site-packages\\tensorflow\\python\\framework\\ops.py\", line 1128, in __init__\n    self._traceback = _extract_stack()\n\nInternalError (see above for traceback): Dst tensor is not initialized.\n\t [[Node: zeros_8 = Const[dtype=DT_FLOAT, value=Tensor<type: float shape: [3136,1024] values: [0 0 0]...>, _device=\"/job:localhost/replica:0/task:0/gpu:0\"]()]]\n"
     ]
    }
   ],
   "source": [
    "#this is still in progress working on building neural network\n",
    "def genBatch(x, y, n =25):\n",
    "    x1 = []\n",
    "    y1 = []\n",
    "    a = range(len(y))\n",
    "    shuffle(a)\n",
    "    for i in range(n):\n",
    "        j = a[i]\n",
    "        x1.append(x[j])\n",
    "        y1.append(y[j])\n",
    "    return x1, y1\n",
    "    \n",
    "import tensorflow as tf\n",
    "sess = tf.InteractiveSession()\n",
    "def weight_variable(shape):\n",
    "  initial = tf.truncated_normal(shape, stddev=0.1)\n",
    "  return tf.Variable(initial)\n",
    "\n",
    "def bias_variable(shape):\n",
    "  initial = tf.constant(0.1, shape=shape)\n",
    "  return tf.Variable(initial)\n",
    "\n",
    "def conv2d(x, W):\n",
    "  return tf.nn.conv2d(x, W, strides=[1, 1, 1, 1], padding='SAME')\n",
    "\n",
    "def max_pool_2x2(x):\n",
    "  return tf.nn.max_pool(x, ksize=[1, 8, 1, 1],\n",
    "                        strides=[1, 8, 1, 1], padding='SAME')\n",
    "\n",
    "x = tf.placeholder(tf.float32, shape=[None, 8240])\n",
    "y_ = tf.placeholder(tf.float32, shape=[None, 3])\n",
    "\n",
    "W_conv1 = weight_variable([32, 1, 1, 32])\n",
    "b_conv1 = bias_variable([32])\n",
    "x_image = tf.reshape(x, [-1,824,10,1])\n",
    "h_conv1 = tf.nn.relu(conv2d(x_image, W_conv1) + b_conv1)\n",
    "h_pool1 = max_pool_2x2(h_conv1)\n",
    "\n",
    "W_conv2 = weight_variable([16, 1, 32, 64])\n",
    "b_conv2 = bias_variable([64])\n",
    "\n",
    "h_conv2 = tf.nn.relu(conv2d(h_pool1, W_conv2) + b_conv2)\n",
    "h_pool2 = max_pool_2x2(h_conv2)\n",
    "\n",
    "W_fc1 = weight_variable([13 * 10 * 64, 1024])\n",
    "b_fc1 = bias_variable([1024])\n",
    "h_pool2_flat = tf.reshape(h_pool2, [-1,13 * 10 * 64 ])\n",
    "h_fc1 = tf.nn.relu(tf.matmul(h_pool2_flat, W_fc1) + b_fc1)\n",
    "\n",
    "keep_prob = tf.placeholder(tf.float32)\n",
    "h_fc1_drop = tf.nn.dropout(h_fc1, keep_prob)\n",
    "\n",
    "W_fc2 = weight_variable([1024, 3])\n",
    "b_fc2 = bias_variable([3])\n",
    "\n",
    "y_conv = tf.matmul(h_fc1_drop, W_fc2) + b_fc2\n",
    "\n",
    "\n",
    "cross_entropy = tf.reduce_mean(tf.nn.softmax_cross_entropy_with_logits(y_conv, y_))\n",
    "train_step = tf.train.AdamOptimizer(1e-4).minimize(cross_entropy)\n",
    "correct_prediction = tf.equal(tf.argmax(y_conv,1), tf.argmax(y_,1))\n",
    "accuracy = tf.reduce_mean(tf.cast(correct_prediction, tf.float32))\n",
    "\n",
    "sess.run(tf.initialize_all_variables())\n",
    "for i in range(200):\n",
    "    x_batch, y_batch = genBatch(xTrain2, yTrain2) \n",
    "  \n",
    "    if i%100 == 0:\n",
    "        train_accuracy = accuracy.eval(feed_dict={\n",
    "            x:x_batch, y_: y_batch, keep_prob: 1.0})\n",
    "        print(\"step %d, training accuracy %g\"%(i, train_accuracy))\n",
    "        train_step.run(feed_dict={x: batch[0], y_: batch[1], keep_prob: 0.5})\n",
    "\n",
    "print(\"test accuracy %g\"%accuracy.eval(feed_dict={\n",
    "    x: xTrain2, y_: yTrain2, keep_prob: 1.0}))"
   ]
  },
  {
   "cell_type": "code",
   "execution_count": null,
   "metadata": {
    "collapsed": true
   },
   "outputs": [],
   "source": []
  }
 ],
 "metadata": {
  "kernelspec": {
   "display_name": "Python [default]",
   "language": "python",
   "name": "python3"
  },
  "language_info": {
   "codemirror_mode": {
    "name": "ipython",
    "version": 3
   },
   "file_extension": ".py",
   "mimetype": "text/x-python",
   "name": "python",
   "nbconvert_exporter": "python",
   "pygments_lexer": "ipython3",
   "version": "3.5.2"
  }
 },
 "nbformat": 4,
 "nbformat_minor": 1
}
